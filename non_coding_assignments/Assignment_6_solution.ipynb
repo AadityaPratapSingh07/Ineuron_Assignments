{
 "cells": [
  {
   "cell_type": "markdown",
   "metadata": {},
   "source": [
    "# Assignment 6:"
   ]
  },
  {
   "cell_type": "markdown",
   "metadata": {},
   "source": [
    "###### 1. What are escape characters, and how do you use them?"
   ]
  },
  {
   "cell_type": "markdown",
   "metadata": {},
   "source": [
    "###### Solution:\n",
    "\n",
    "Escape sequences allow us to include special characters in strings. To do this, simply add a backslash ( \\ ) before the character we want."
   ]
  },
  {
   "cell_type": "markdown",
   "metadata": {},
   "source": [
    "###### 2. What do the escape characters n and t stand for?"
   ]
  },
  {
   "cell_type": "markdown",
   "metadata": {},
   "source": [
    "###### Solution:\n",
    "\n",
    "The escape characters n helps to add newline to a line and t helps to add tab to the code."
   ]
  },
  {
   "cell_type": "markdown",
   "metadata": {},
   "source": [
    "###### 3. What is the way to include backslash characters in a string?"
   ]
  },
  {
   "cell_type": "markdown",
   "metadata": {},
   "source": [
    "###### Solution:\n",
    "\n",
    "The backslash (\"\\\") character is a special escape character used to indicate other special characters such as new lines (\\n), tabs (\\t)."
   ]
  },
  {
   "cell_type": "markdown",
   "metadata": {},
   "source": [
    "###### 4. The string \"Howl's Moving Castle\" is a correct value. Why isn't the single quote character in the word Howl's not escaped a problem?"
   ]
  },
  {
   "cell_type": "markdown",
   "metadata": {},
   "source": [
    "###### Solution:\n",
    "\n",
    "Since we need to add special character ' inside a string we will need to add \\ in order for the code to treat it as apostrophe."
   ]
  },
  {
   "cell_type": "markdown",
   "metadata": {},
   "source": [
    "###### 5. How do you write a string of newlines if you don't want to use the n character?"
   ]
  },
  {
   "cell_type": "markdown",
   "metadata": {},
   "source": [
    "###### Solution:\n",
    "\n",
    "We can use multiline \"\"\"string\"\"\" to add new line as well."
   ]
  },
  {
   "cell_type": "markdown",
   "metadata": {},
   "source": [
    "###### 6. What are the values of the given expressions?\n",
    "\n",
    "'Hello, world!'[1]\n",
    "\n",
    "'Hello, world!'[0:5]\n",
    "\n",
    "'Hello, world!'[:5]\n",
    "\n",
    "'Hello, world!'[3:]\n"
   ]
  },
  {
   "cell_type": "markdown",
   "metadata": {},
   "source": [
    "###### Solution:\n",
    "\n",
    "The expressions evaluate to the following:\n",
    "\n",
    "'e'\n",
    "\n",
    "'Hello'\n",
    "\n",
    "'Hello'\n",
    "\n",
    "'lo world!"
   ]
  },
  {
   "cell_type": "markdown",
   "metadata": {},
   "source": [
    "###### 7. What are the values of the following expressions?\n",
    "\n",
    "'Hello'.upper()\n",
    "\n",
    "'Hello'.upper().isupper()\n",
    "\n",
    "'Hello'.upper().lower()\n"
   ]
  },
  {
   "cell_type": "markdown",
   "metadata": {},
   "source": [
    "###### Solution:\n",
    "\n",
    "The expressions evaluate to the following:\n",
    "\n",
    "'HELLO'\n",
    "\n",
    "True\n",
    "\n",
    "'hello'"
   ]
  },
  {
   "cell_type": "markdown",
   "metadata": {},
   "source": [
    "###### 8. What are the values of the following expressions?\n",
    "\n",
    "'Remember, remember, the fifth of July.'.split()\n",
    "\n",
    "'-'.join('There can only one.'.split())\n"
   ]
  },
  {
   "cell_type": "markdown",
   "metadata": {},
   "source": [
    "###### Solution:\n",
    "\n",
    "['Remember,', 'remember,', 'the', 'fifth', 'of', 'November.']\n",
    "\n",
    "'There-can-be-only-one."
   ]
  },
  {
   "cell_type": "markdown",
   "metadata": {},
   "source": [
    "###### 9. What are the methods for right-justifying, left-justifying, and centering a string?"
   ]
  },
  {
   "cell_type": "markdown",
   "metadata": {},
   "source": [
    "###### Solution:\n",
    "\n",
    "The rjust(), ljust(), and center() string methods, respectively"
   ]
  },
  {
   "cell_type": "markdown",
   "metadata": {},
   "source": [
    "###### 10. What is the best way to remove whitespace characters from the start or end?"
   ]
  },
  {
   "cell_type": "markdown",
   "metadata": {},
   "source": [
    "###### Solution:\n",
    "\n",
    "The lstrip() and rstrip() methods remove whitespace from the left and right ends of a string, respectively."
   ]
  },
  {
   "cell_type": "code",
   "execution_count": null,
   "metadata": {},
   "outputs": [],
   "source": []
  }
 ],
 "metadata": {
  "kernelspec": {
   "display_name": "Python 3",
   "language": "python",
   "name": "python3"
  },
  "language_info": {
   "codemirror_mode": {
    "name": "ipython",
    "version": 3
   },
   "file_extension": ".py",
   "mimetype": "text/x-python",
   "name": "python",
   "nbconvert_exporter": "python",
   "pygments_lexer": "ipython3",
   "version": "3.8.5"
  }
 },
 "nbformat": 4,
 "nbformat_minor": 4
}
